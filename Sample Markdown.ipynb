{
 "cells": [
  {
   "cell_type": "markdown",
   "id": "46be7ac4",
   "metadata": {},
   "source": [
    "# This is BIG Heading\n",
    "## Smaller one\n",
    "\n",
    "<br>\n",
    "\n",
    "### This is rather smaller heading\n",
    "This is my paragraph:\n",
    "1. this is one\n",
    "1. this is two\n",
    "1. this is three\n"
   ]
  },
  {
   "cell_type": "markdown",
   "id": "89dc0e63",
   "metadata": {},
   "source": [
    "# let's see what is this"
   ]
  },
  {
   "cell_type": "markdown",
   "id": "5cc297a5",
   "metadata": {},
   "source": [
    "## That's another paragraph with smaller heading\n",
    "\n",
    "<br>\n",
    "\n",
    "This is a test\n"
   ]
  },
  {
   "cell_type": "markdown",
   "id": "0196bc09",
   "metadata": {},
   "source": [
    "*Italic* **BOLD**"
   ]
  },
  {
   "cell_type": "markdown",
   "id": "5106d9bf",
   "metadata": {},
   "source": [
    "<br>"
   ]
  },
  {
   "cell_type": "code",
   "execution_count": 10,
   "id": "44400202",
   "metadata": {},
   "outputs": [
    {
     "data": {
      "text/plain": [
       "7"
      ]
     },
     "execution_count": 10,
     "metadata": {},
     "output_type": "execute_result"
    }
   ],
   "source": [
    "5+2"
   ]
  },
  {
   "cell_type": "code",
   "execution_count": null,
   "id": "031bbf06",
   "metadata": {},
   "outputs": [],
   "source": []
  }
 ],
 "metadata": {
  "kernelspec": {
   "display_name": "Python 3 (ipykernel)",
   "language": "python",
   "name": "python3"
  },
  "language_info": {
   "codemirror_mode": {
    "name": "ipython",
    "version": 3
   },
   "file_extension": ".py",
   "mimetype": "text/x-python",
   "name": "python",
   "nbconvert_exporter": "python",
   "pygments_lexer": "ipython3",
   "version": "3.9.7"
  }
 },
 "nbformat": 4,
 "nbformat_minor": 5
}
